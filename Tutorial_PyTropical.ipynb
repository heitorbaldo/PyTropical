{
 "cells": [
  {
   "cell_type": "markdown",
   "id": "2d8e0f85",
   "metadata": {},
   "source": [
    "<img src=\"logo_pytropical2.png\" width=\"280px\" align=\"left\"></img>\n",
    "<br><br><br><br><br>\n",
    "\n",
    "## Tutorial\n",
    "\n",
    "PyTropical is a Python package to perform tropical operations.\n",
    "\n",
    "So far, the following few basic operations have been implemented for both Max-Plus Algebra and Min-Plus Algebra:\n",
    "\n",
    "- Tropical sum\n",
    "- Tropical multiplication\n",
    "- Tropical exponentiation\n",
    "- Tropical polynomials\n",
    "- Tropical sum for vectors\n",
    "- Tropical scalar multiplication for vectors\n",
    "- Tropical sum for matrices\n",
    "- Tropical multiplication for matrices\n",
    "- Tropical scalar multiplication for matrices\n",
    "\n",
    "<hr>"
   ]
  },
  {
   "cell_type": "code",
   "execution_count": 1,
   "id": "f47c8741",
   "metadata": {},
   "outputs": [],
   "source": [
    "import math as m\n",
    "import numpy as np\n",
    "\n",
    "from pytropical.tropical_algebra import MaxPlusAlgebra, MinPlusAlgebra\n",
    "from pytropical.utils import *"
   ]
  },
  {
   "cell_type": "markdown",
   "id": "16e30d06",
   "metadata": {},
   "source": [
    "## Max-Plus Algebra\n"
   ]
  },
  {
   "cell_type": "code",
   "execution_count": 2,
   "id": "cdbfd1f0",
   "metadata": {},
   "outputs": [],
   "source": [
    "maxp = MaxPlusAlgebra()\n",
    "inf = maxp.inf #inf is the additive zero"
   ]
  },
  {
   "cell_type": "code",
   "execution_count": 3,
   "id": "95f74fb6",
   "metadata": {},
   "outputs": [
    {
     "data": {
      "text/plain": [
       "3"
      ]
     },
     "execution_count": 3,
     "metadata": {},
     "output_type": "execute_result"
    }
   ],
   "source": [
    "#tropical sum\n",
    "maxp.trop_sum(2.8, 3)"
   ]
  },
  {
   "cell_type": "code",
   "execution_count": 4,
   "id": "9cfd7401",
   "metadata": {},
   "outputs": [
    {
     "name": "stdout",
     "output_type": "stream",
     "text": [
      "2.8⨁3 = 3\n"
     ]
    }
   ],
   "source": [
    "#print the usual symbol for the tropical sum\n",
    "maxp.trop_sum(2.8, 3, symbol=True)"
   ]
  },
  {
   "cell_type": "code",
   "execution_count": 5,
   "id": "d4b2d511",
   "metadata": {},
   "outputs": [
    {
     "name": "stdout",
     "output_type": "stream",
     "text": [
      "2⨁-inf = 2\n"
     ]
    }
   ],
   "source": [
    "maxp.trop_sum(2, inf, symbol=True)"
   ]
  },
  {
   "cell_type": "code",
   "execution_count": 6,
   "id": "027dccfa",
   "metadata": {},
   "outputs": [
    {
     "data": {
      "text/plain": [
       "-inf"
      ]
     },
     "execution_count": 6,
     "metadata": {},
     "output_type": "execute_result"
    }
   ],
   "source": [
    "#tropical multiplication\n",
    "maxp.trop_mult(90, inf)"
   ]
  },
  {
   "cell_type": "code",
   "execution_count": 7,
   "id": "402c719e",
   "metadata": {},
   "outputs": [
    {
     "name": "stdout",
     "output_type": "stream",
     "text": [
      "90⨀-inf = -inf\n"
     ]
    }
   ],
   "source": [
    "maxp.trop_mult(90, inf, symbol=True)"
   ]
  },
  {
   "cell_type": "code",
   "execution_count": 8,
   "id": "b8cc6d05",
   "metadata": {},
   "outputs": [
    {
     "name": "stdout",
     "output_type": "stream",
     "text": [
      "2^3 = 2⨀2⨀2 =  6\n"
     ]
    }
   ],
   "source": [
    "#tropical exponentiation\n",
    "\n",
    "print(\"2^3 = 2⨀2⨀2 = \", maxp.trop_pow(2, 3))"
   ]
  },
  {
   "cell_type": "code",
   "execution_count": 9,
   "id": "17072951",
   "metadata": {},
   "outputs": [
    {
     "name": "stdout",
     "output_type": "stream",
     "text": [
      "(2⨁3)^3 = 9\n",
      "2^3⨁3^3 = 9\n"
     ]
    }
   ],
   "source": [
    "#Freshman's dream: (x⨁y)^n = x^n⨁y^n\n",
    "\n",
    "x3 = maxp.trop_pow(2, 3)\n",
    "y3 = maxp.trop_pow(3, 3)\n",
    "\n",
    "print(\"(2⨁3)^3 =\", maxp.trop_pow(maxp.trop_sum(2, 3), 3))\n",
    "print(\"2^3⨁3^3 =\", maxp.trop_sum(x3, y3))"
   ]
  },
  {
   "cell_type": "code",
   "execution_count": 10,
   "id": "87d04234",
   "metadata": {},
   "outputs": [
    {
     "data": {
      "text/plain": [
       "'1⨀x^2 ⨁ 2⨀x^3 ⨁ 2⨀x^4'"
      ]
     },
     "execution_count": 10,
     "metadata": {},
     "output_type": "execute_result"
    }
   ],
   "source": [
    "#Tropical polynomials\n",
    "\n",
    "p = [[1,2], [2,3], [2,4]]\n",
    "\n",
    "maxp.trop_polynomial(p)"
   ]
  },
  {
   "cell_type": "code",
   "execution_count": 11,
   "id": "7564509c",
   "metadata": {},
   "outputs": [
    {
     "name": "stdout",
     "output_type": "stream",
     "text": [
      "v⨁w = [1, 2, -90]\n",
      "3⨀v = [4, 3, -inf]\n"
     ]
    }
   ],
   "source": [
    "#Tropical sum and tropical scalar multiplication of two vectors\n",
    "\n",
    "v = [1, 0, inf]\n",
    "w = [1, 2, -90]\n",
    "a = 3\n",
    "\n",
    "print(\"v⨁w =\", maxp.vec_trop_sum(v, w))\n",
    "print(\"3⨀v =\", maxp.vec_trop_scalar_mult(a, v))"
   ]
  },
  {
   "cell_type": "code",
   "execution_count": 12,
   "id": "9c7baada",
   "metadata": {},
   "outputs": [
    {
     "name": "stdout",
     "output_type": "stream",
     "text": [
      "A⨁B =\n",
      " [[ 2.  3.  5.]\n",
      " [ 5.  7. 10.]]\n"
     ]
    }
   ],
   "source": [
    "#Tropical sum of two matrices\n",
    "\n",
    "A = np.matrix([[2,3, 5],[4,7, 7]])\n",
    "B = np.matrix([[2,1, -1],[5,3, 10]])\n",
    "\n",
    "print(\"A⨁B =\\n\", maxp.matrix_trop_sum(A, B))"
   ]
  },
  {
   "cell_type": "code",
   "execution_count": 13,
   "id": "c5ac3a13",
   "metadata": {},
   "outputs": [
    {
     "name": "stdout",
     "output_type": "stream",
     "text": [
      "3⨀A =\n",
      " [[ 5.  6.  8.]\n",
      " [ 7. 10. 10.]]\n"
     ]
    }
   ],
   "source": [
    "#Tropical scalar multiplication\n",
    "\n",
    "a = 3\n",
    "print(\"3⨀A =\\n\", maxp.matrix_trop_scalar_mult(a, A))"
   ]
  },
  {
   "cell_type": "code",
   "execution_count": 14,
   "id": "1db3bdf6",
   "metadata": {},
   "outputs": [
    {
     "name": "stdout",
     "output_type": "stream",
     "text": [
      "A⨀B =\n",
      " [[ 8. 15.]\n",
      " [12. 17.]]\n"
     ]
    }
   ],
   "source": [
    "#Tropical multiplication of two matrices\n",
    "\n",
    "A = np.matrix([[2,3, 5],[4,7, 7]])\n",
    "B = np.matrix([[2,1],[5,3],[2,10]])\n",
    "\n",
    "print(\"A⨀B =\\n\", maxp.matrix_trop_mult(A, B))"
   ]
  },
  {
   "cell_type": "code",
   "execution_count": 4,
   "id": "b846a168",
   "metadata": {},
   "outputs": [
    {
     "name": "stdout",
     "output_type": "stream",
     "text": [
      "A⨀B =\n",
      " [[11. 19.  6.]\n",
      " [12. 20.  7.]]\n"
     ]
    }
   ],
   "source": [
    "A = np.matrix([[0,2,9,4],[-3,5,10,0]])\n",
    "B = np.matrix([[2,1,3],[5,3,0],[2,10,-3],[0,-3,-1]])\n",
    "\n",
    "print(\"A⨀B =\\n\", maxp.matrix_trop_mult(A, B))"
   ]
  },
  {
   "cell_type": "code",
   "execution_count": 11,
   "id": "7cd53312",
   "metadata": {},
   "outputs": [
    {
     "name": "stdout",
     "output_type": "stream",
     "text": [
      "v⨀w^t = [[2.]]\n",
      "v^t⨀w = [[  2.   3. -89.]\n",
      " [  1.   2. -90.]\n",
      " [-inf -inf -inf]]\n"
     ]
    }
   ],
   "source": [
    "#Tropical scalar product between two vectors\n",
    "\n",
    "v = np.matrix([[1, 0, inf]])\n",
    "w = np.matrix([[1, 2, -90]])\n",
    "\n",
    "print(\"v⨀w^t =\",  maxp.matrix_trop_mult(v, np.transpose(w)))\n",
    "print(\"v^t⨀w =\",  maxp.matrix_trop_mult(np.transpose(v), w))"
   ]
  },
  {
   "cell_type": "code",
   "execution_count": null,
   "id": "8c7752c8",
   "metadata": {},
   "outputs": [],
   "source": []
  },
  {
   "cell_type": "markdown",
   "id": "5e0df04b",
   "metadata": {},
   "source": [
    "## Min-Plus Algebra\n"
   ]
  },
  {
   "cell_type": "code",
   "execution_count": 16,
   "id": "7a00310d",
   "metadata": {},
   "outputs": [],
   "source": [
    "minp = MinPlusAlgebra()\n",
    "inf = minp.inf #inf is the additive zero"
   ]
  },
  {
   "cell_type": "code",
   "execution_count": 17,
   "id": "57cb6c4f",
   "metadata": {},
   "outputs": [
    {
     "data": {
      "text/plain": [
       "2"
      ]
     },
     "execution_count": 17,
     "metadata": {},
     "output_type": "execute_result"
    }
   ],
   "source": [
    "minp.trop_sum(2,3)"
   ]
  },
  {
   "cell_type": "code",
   "execution_count": 18,
   "id": "8b43545b",
   "metadata": {},
   "outputs": [
    {
     "name": "stdout",
     "output_type": "stream",
     "text": [
      "2⨁3 = 2\n"
     ]
    }
   ],
   "source": [
    "minp.trop_sum(2, 3, symbol=True)"
   ]
  },
  {
   "cell_type": "code",
   "execution_count": 19,
   "id": "ce17a290",
   "metadata": {},
   "outputs": [
    {
     "name": "stdout",
     "output_type": "stream",
     "text": [
      "30⨀inf = inf\n"
     ]
    }
   ],
   "source": [
    "minp.trop_mult(30, inf, symbol=True)"
   ]
  },
  {
   "cell_type": "code",
   "execution_count": 20,
   "id": "d4af7377",
   "metadata": {},
   "outputs": [
    {
     "name": "stdout",
     "output_type": "stream",
     "text": [
      "2^2 = 2⨀2 =  4\n"
     ]
    }
   ],
   "source": [
    "#tropical exponentiation\n",
    "\n",
    "print(\"2^2 = 2⨀2 = \", minp.trop_pow(2, 2))"
   ]
  },
  {
   "cell_type": "code",
   "execution_count": 21,
   "id": "02c29c69",
   "metadata": {},
   "outputs": [
    {
     "name": "stdout",
     "output_type": "stream",
     "text": [
      "(2⨁3)^3 = 6\n",
      "2^3⨁3^3 = 6\n"
     ]
    }
   ],
   "source": [
    "#Freshman's dream: (x⨁y)^n = x^n⨁y^n\n",
    "\n",
    "x3 = minp.trop_pow(2, 3)\n",
    "y3 = minp.trop_pow(3, 3)\n",
    "\n",
    "print(\"(2⨁3)^3 =\", minp.trop_pow(minp.trop_sum(2, 3), 3))\n",
    "print(\"2^3⨁3^3 =\", minp.trop_sum(x3, y3))"
   ]
  },
  {
   "cell_type": "code",
   "execution_count": 22,
   "id": "38c59a40",
   "metadata": {},
   "outputs": [
    {
     "data": {
      "text/plain": [
       "'1⨀x^2 ⨁ 2⨀x^3 ⨁ 2⨀x^4'"
      ]
     },
     "execution_count": 22,
     "metadata": {},
     "output_type": "execute_result"
    }
   ],
   "source": [
    "#Tropical polynomials\n",
    "\n",
    "p = [[1,2], [2,3], [2,4]]\n",
    "\n",
    "minp.trop_polynomial(p)"
   ]
  },
  {
   "cell_type": "code",
   "execution_count": 23,
   "id": "00bbe6a3",
   "metadata": {},
   "outputs": [
    {
     "name": "stdout",
     "output_type": "stream",
     "text": [
      "v⨁w = [1, 0, -90]\n",
      "3⨀v = [4, 3, inf]\n"
     ]
    }
   ],
   "source": [
    "#Tropical sum and tropical scalar multiplication of two vectors\n",
    "\n",
    "v = [1, 0, inf]\n",
    "w = [1, 2, -90]\n",
    "a = 3\n",
    "\n",
    "print(\"v⨁w =\", minp.vec_trop_sum(v, w))\n",
    "print(\"3⨀v =\", minp.vec_trop_scalar_mult(a, v))"
   ]
  },
  {
   "cell_type": "code",
   "execution_count": 24,
   "id": "5d758ec8",
   "metadata": {},
   "outputs": [
    {
     "name": "stdout",
     "output_type": "stream",
     "text": [
      "A⨁B =\n",
      " [[ 2.  1. -1.]\n",
      " [ 4.  3.  7.]]\n"
     ]
    }
   ],
   "source": [
    "#Tropical sum of two matrices\n",
    "\n",
    "A = np.matrix([[2,3, 5],[4,7, 7]])\n",
    "B = np.matrix([[2,1, -1],[5,3, 10]])\n",
    "\n",
    "print(\"A⨁B =\\n\", minp.matrix_trop_sum(A, B))"
   ]
  },
  {
   "cell_type": "code",
   "execution_count": 25,
   "id": "3a482fe9",
   "metadata": {},
   "outputs": [
    {
     "name": "stdout",
     "output_type": "stream",
     "text": [
      "3⨀A =\n",
      " [[ 5.  6.  8.]\n",
      " [ 7. 10. 10.]]\n"
     ]
    }
   ],
   "source": [
    "#Tropical scalar multiplication\n",
    "\n",
    "a = 3\n",
    "print(\"3⨀A =\\n\", minp.matrix_trop_scalar_mult(a, A))"
   ]
  },
  {
   "cell_type": "code",
   "execution_count": 26,
   "id": "e3fe2238",
   "metadata": {},
   "outputs": [
    {
     "name": "stdout",
     "output_type": "stream",
     "text": [
      "A⨀B =\n",
      " [[4. 3.]\n",
      " [6. 5.]]\n"
     ]
    }
   ],
   "source": [
    "#Tropical multiplication of two matrices\n",
    "\n",
    "A = np.matrix([[2,3, 5],[4,7, 7]])\n",
    "B = np.matrix([[2,1],[5,3],[2,10]])\n",
    "\n",
    "print(\"A⨀B =\\n\", minp.matrix_trop_mult(A, B))"
   ]
  },
  {
   "cell_type": "code",
   "execution_count": null,
   "id": "d73520cd",
   "metadata": {},
   "outputs": [],
   "source": []
  },
  {
   "cell_type": "code",
   "execution_count": 27,
   "id": "dd1a5e85",
   "metadata": {},
   "outputs": [
    {
     "name": "stdout",
     "output_type": "stream",
     "text": [
      "  _____    _______              _           _  \n",
      " |  __ \\  |__   __|            (_)         | | \n",
      " | |__) |   _| |_ __ ___  _ __  _  ___ __ _| | \n",
      " |  ___/ | | | | '__/ _ \\| '_ \\| |/ __/ _` | | \n",
      " | |   | |_| | | | | (_) | |_) | | (_| (_| | | \n",
      " |_|    \\__, |_|_|  \\___/| .__/|_|\\___\\__,_|_| \n",
      "         __/ |           | |                   \n",
      "        |___/            |_|                   \n"
     ]
    }
   ],
   "source": [
    "print_pytropical()"
   ]
  }
 ],
 "metadata": {
  "kernelspec": {
   "display_name": "Python 3 (ipykernel)",
   "language": "python",
   "name": "python3"
  },
  "language_info": {
   "codemirror_mode": {
    "name": "ipython",
    "version": 3
   },
   "file_extension": ".py",
   "mimetype": "text/x-python",
   "name": "python",
   "nbconvert_exporter": "python",
   "pygments_lexer": "ipython3",
   "version": "3.9.12"
  }
 },
 "nbformat": 4,
 "nbformat_minor": 5
}
