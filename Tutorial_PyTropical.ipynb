{
 "cells": [
  {
   "cell_type": "markdown",
   "id": "2d8e0f85",
   "metadata": {},
   "source": [
    "<img src=\"logo_pytropical2.png\" width=\"280px\" align=\"left\"></img>\n",
    "<br><br><br><br><br>\n",
    "\n",
    "## Tutorial\n",
    "\n",
    "PyTropical is a Python package to perform tropical operations.\n",
    "\n",
    "So far, the following few basic operations have been implemented for both Max-Plus Algebra and Min-Plus Algebra:\n",
    "\n",
    "- Tropical sum\n",
    "- Tropical multiplication\n",
    "- Tropical exponentiation\n",
    "- Tropical polynomials\n",
    "- Tropical sum for vectors\n",
    "- Tropical scalar multiplication for vectors\n",
    "- Tropical sum for matrices\n",
    "- Tropical scalar multiplication for matrices\n",
    "\n",
    "<hr>"
   ]
  },
  {
   "cell_type": "code",
   "execution_count": 1,
   "id": "f47c8741",
   "metadata": {},
   "outputs": [],
   "source": [
    "import math as m\n",
    "import numpy as np\n",
    "import networkx as nx\n",
    "\n",
    "from pytropical.tropical_algebra import MaxPlusAlgebra, MinPlusAlgebra\n",
    "from pytropical.utils import *"
   ]
  },
  {
   "cell_type": "markdown",
   "id": "9cff9f59",
   "metadata": {},
   "source": [
    "## Max-Plus Algebra\n"
   ]
  },
  {
   "cell_type": "code",
   "execution_count": 2,
   "id": "cdbfd1f0",
   "metadata": {},
   "outputs": [],
   "source": [
    "maxp = MaxPlusAlgebra()\n",
    "inf = maxp.inf #inf is the additive zero"
   ]
  },
  {
   "cell_type": "code",
   "execution_count": 3,
   "id": "b51ab47d",
   "metadata": {},
   "outputs": [
    {
     "data": {
      "text/plain": [
       "3"
      ]
     },
     "execution_count": 3,
     "metadata": {},
     "output_type": "execute_result"
    }
   ],
   "source": [
    "#tropical sum\n",
    "maxp.trop_sum(2.8, 3)"
   ]
  },
  {
   "cell_type": "code",
   "execution_count": 4,
   "id": "3418ebfe",
   "metadata": {},
   "outputs": [
    {
     "name": "stdout",
     "output_type": "stream",
     "text": [
      "2.8⨁3 = 3\n"
     ]
    }
   ],
   "source": [
    "#print the usual symbol for the tropical sum\n",
    "maxp.trop_sum(2.8, 3, symbol=True)"
   ]
  },
  {
   "cell_type": "code",
   "execution_count": 5,
   "id": "5570744f",
   "metadata": {},
   "outputs": [
    {
     "name": "stdout",
     "output_type": "stream",
     "text": [
      "2⨁-inf = 2\n"
     ]
    }
   ],
   "source": [
    "maxp.trop_sum(2, inf, symbol=True)"
   ]
  },
  {
   "cell_type": "code",
   "execution_count": 6,
   "id": "53586148",
   "metadata": {},
   "outputs": [
    {
     "data": {
      "text/plain": [
       "-inf"
      ]
     },
     "execution_count": 6,
     "metadata": {},
     "output_type": "execute_result"
    }
   ],
   "source": [
    "#tropical multiplication\n",
    "maxp.trop_mult(90, inf)"
   ]
  },
  {
   "cell_type": "code",
   "execution_count": 7,
   "id": "e960242d",
   "metadata": {},
   "outputs": [
    {
     "name": "stdout",
     "output_type": "stream",
     "text": [
      "90⨀-inf = -inf\n"
     ]
    }
   ],
   "source": [
    "maxp.trop_mult(90, inf, symbol=True)"
   ]
  },
  {
   "cell_type": "code",
   "execution_count": 8,
   "id": "bdce2ffc",
   "metadata": {},
   "outputs": [
    {
     "name": "stdout",
     "output_type": "stream",
     "text": [
      "2^3 = 2⨀2⨀2 =  6\n"
     ]
    }
   ],
   "source": [
    "#tropical exponentiation\n",
    "\n",
    "print(\"2^3 = 2⨀2⨀2 = \", maxp.trop_pow(2, 3))"
   ]
  },
  {
   "cell_type": "code",
   "execution_count": 9,
   "id": "247e5f01",
   "metadata": {},
   "outputs": [
    {
     "name": "stdout",
     "output_type": "stream",
     "text": [
      "(2⨁3)^3 = 9\n",
      "2^3⨁3^3 = 9\n"
     ]
    }
   ],
   "source": [
    "#Freshman's dream: (x⨁y)^n = x^n⨁y^n\n",
    "\n",
    "x3 = maxp.trop_pow(2, 3)\n",
    "y3 = maxp.trop_pow(3, 3)\n",
    "\n",
    "print(\"(2⨁3)^3 =\", maxp.trop_pow(maxp.trop_sum(2, 3), 3))\n",
    "print(\"2^3⨁3^3 =\", maxp.trop_sum(x3, y3))"
   ]
  },
  {
   "cell_type": "code",
   "execution_count": 10,
   "id": "ebecd841",
   "metadata": {},
   "outputs": [
    {
     "data": {
      "text/plain": [
       "'1⨀x^2 ⨁ 2⨀x^3 ⨁ 2⨀x^4'"
      ]
     },
     "execution_count": 10,
     "metadata": {},
     "output_type": "execute_result"
    }
   ],
   "source": [
    "#Tropical polynomials\n",
    "\n",
    "p = [[1,2], [2,3], [2,4]]\n",
    "\n",
    "maxp.trop_polynomial(p)"
   ]
  },
  {
   "cell_type": "code",
   "execution_count": 11,
   "id": "7564509c",
   "metadata": {},
   "outputs": [
    {
     "name": "stdout",
     "output_type": "stream",
     "text": [
      "v⨁w = [1, 2, -90]\n",
      "v⨀w = [4, 3, -inf]\n"
     ]
    }
   ],
   "source": [
    "#Tropical sum and tropical scalar multiplication of two vectors\n",
    "\n",
    "v = [1, 0, inf]\n",
    "w = [1, 2, -90]\n",
    "a = 3\n",
    "\n",
    "print(\"v⨁w =\", maxp.vec_trop_sum(v, w))\n",
    "print(\"v⨀w =\", maxp.vec_trop_scalar_mult(a, v))"
   ]
  },
  {
   "cell_type": "code",
   "execution_count": 12,
   "id": "be44918a",
   "metadata": {},
   "outputs": [
    {
     "name": "stdout",
     "output_type": "stream",
     "text": [
      "A⨁B =\n",
      " [[ 2.  3.  5.]\n",
      " [ 5.  7. 10.]]\n"
     ]
    }
   ],
   "source": [
    "#Tropical sum of two matrices\n",
    "\n",
    "A = np.matrix([[2,3, 5],[4,7, 7]])\n",
    "B = np.matrix([[2,1, -1],[5,3, 10]])\n",
    "\n",
    "print(\"A⨁B =\\n\", maxp.matrix_trop_sum(A, B))"
   ]
  },
  {
   "cell_type": "code",
   "execution_count": 13,
   "id": "bfc12fa7",
   "metadata": {},
   "outputs": [
    {
     "name": "stdout",
     "output_type": "stream",
     "text": [
      "3⨀A =\n",
      " [[ 5.  6.  8.]\n",
      " [ 7. 10. 10.]]\n"
     ]
    }
   ],
   "source": [
    "#Tropical scalar multiplication\n",
    "\n",
    "a = 3\n",
    "print(\"3⨀A =\\n\", maxp.matrix_trop_scalar_mult(a, A))"
   ]
  },
  {
   "cell_type": "markdown",
   "id": "7ed53d8a",
   "metadata": {},
   "source": [
    "## Min-Plus Algebra\n"
   ]
  },
  {
   "cell_type": "code",
   "execution_count": 14,
   "id": "7a00310d",
   "metadata": {},
   "outputs": [],
   "source": [
    "minp = MinPlusAlgebra()\n",
    "inf = minp.inf #inf is the additive zero"
   ]
  },
  {
   "cell_type": "code",
   "execution_count": 15,
   "id": "57cb6c4f",
   "metadata": {},
   "outputs": [
    {
     "data": {
      "text/plain": [
       "2"
      ]
     },
     "execution_count": 15,
     "metadata": {},
     "output_type": "execute_result"
    }
   ],
   "source": [
    "minp.trop_sum(2,3)"
   ]
  },
  {
   "cell_type": "code",
   "execution_count": 16,
   "id": "7f4b1346",
   "metadata": {},
   "outputs": [
    {
     "name": "stdout",
     "output_type": "stream",
     "text": [
      "2⨁3 = 2\n"
     ]
    }
   ],
   "source": [
    "minp.trop_sum(2, 3, symbol=True)"
   ]
  },
  {
   "cell_type": "code",
   "execution_count": 17,
   "id": "87f6cffd",
   "metadata": {},
   "outputs": [
    {
     "name": "stdout",
     "output_type": "stream",
     "text": [
      "30⨀inf = inf\n"
     ]
    }
   ],
   "source": [
    "minp.trop_mult(30, inf, symbol=True)"
   ]
  },
  {
   "cell_type": "code",
   "execution_count": 18,
   "id": "a1fd1534",
   "metadata": {},
   "outputs": [
    {
     "name": "stdout",
     "output_type": "stream",
     "text": [
      "2^2 = 2⨀2 =  4\n"
     ]
    }
   ],
   "source": [
    "#tropical exponentiation\n",
    "\n",
    "print(\"2^2 = 2⨀2 = \", minp.trop_pow(2, 2))"
   ]
  },
  {
   "cell_type": "code",
   "execution_count": 19,
   "id": "d04e7fc5",
   "metadata": {},
   "outputs": [
    {
     "name": "stdout",
     "output_type": "stream",
     "text": [
      "(2⨁3)^3 = 6\n",
      "2^3⨁3^3 = 6\n"
     ]
    }
   ],
   "source": [
    "#Freshman's dream: (x⨁y)^n = x^n⨁y^n\n",
    "\n",
    "x3 = minp.trop_pow(2, 3)\n",
    "y3 = minp.trop_pow(3, 3)\n",
    "\n",
    "print(\"(2⨁3)^3 =\", minp.trop_pow(minp.trop_sum(2, 3), 3))\n",
    "print(\"2^3⨁3^3 =\", minp.trop_sum(x3, y3))"
   ]
  },
  {
   "cell_type": "code",
   "execution_count": 20,
   "id": "e7c2c73a",
   "metadata": {},
   "outputs": [
    {
     "data": {
      "text/plain": [
       "'1⨀x^2 ⨁ 2⨀x^3 ⨁ 2⨀x^4'"
      ]
     },
     "execution_count": 20,
     "metadata": {},
     "output_type": "execute_result"
    }
   ],
   "source": [
    "#Tropical polynomials\n",
    "\n",
    "p = [[1,2], [2,3], [2,4]]\n",
    "\n",
    "minp.trop_polynomial(p)"
   ]
  },
  {
   "cell_type": "code",
   "execution_count": 21,
   "id": "714f8f23",
   "metadata": {},
   "outputs": [
    {
     "name": "stdout",
     "output_type": "stream",
     "text": [
      "v⨁w = [1, 0, -90]\n",
      "v⨀w = [4, 3, inf]\n"
     ]
    }
   ],
   "source": [
    "#Tropical sum and tropical scalar multiplication of two vectors\n",
    "\n",
    "v = [1, 0, inf]\n",
    "w = [1, 2, -90]\n",
    "a = 3\n",
    "\n",
    "print(\"v⨁w =\", minp.vec_trop_sum(v, w))\n",
    "print(\"v⨀w =\", minp.vec_trop_scalar_mult(a, v))"
   ]
  },
  {
   "cell_type": "code",
   "execution_count": 22,
   "id": "1f43f1d2",
   "metadata": {},
   "outputs": [
    {
     "name": "stdout",
     "output_type": "stream",
     "text": [
      "A⨁B =\n",
      " [[ 2.  1. -1.]\n",
      " [ 4.  3.  7.]]\n"
     ]
    }
   ],
   "source": [
    "#Tropical sum of two matrices\n",
    "\n",
    "A = np.matrix([[2,3, 5],[4,7, 7]])\n",
    "B = np.matrix([[2,1, -1],[5,3, 10]])\n",
    "\n",
    "print(\"A⨁B =\\n\", minp.matrix_trop_sum(A, B))"
   ]
  },
  {
   "cell_type": "code",
   "execution_count": 23,
   "id": "d292674b",
   "metadata": {},
   "outputs": [
    {
     "name": "stdout",
     "output_type": "stream",
     "text": [
      "3⨀A =\n",
      " [[ 5.  6.  8.]\n",
      " [ 7. 10. 10.]]\n"
     ]
    }
   ],
   "source": [
    "#Tropical scalar multiplication\n",
    "\n",
    "a = 3\n",
    "print(\"3⨀A =\\n\", minp.matrix_trop_scalar_mult(a, A))"
   ]
  },
  {
   "cell_type": "code",
   "execution_count": 24,
   "id": "dd1a5e85",
   "metadata": {},
   "outputs": [
    {
     "name": "stdout",
     "output_type": "stream",
     "text": [
      "  _____    _______              _           _  \n",
      " |  __ \\  |__   __|            (_)         | | \n",
      " | |__) |   _| |_ __ ___  _ __  _  ___ __ _| | \n",
      " |  ___/ | | | | '__/ _ \\| '_ \\| |/ __/ _` | | \n",
      " | |   | |_| | | | | (_) | |_) | | (_| (_| | | \n",
      " |_|    \\__, |_|_|  \\___/| .__/|_|\\___\\__,_|_| \n",
      "         __/ |           | |                   \n",
      "        |___/            |_|                   \n"
     ]
    }
   ],
   "source": [
    "print_pytropical()"
   ]
  }
 ],
 "metadata": {
  "kernelspec": {
   "display_name": "Python 3 (ipykernel)",
   "language": "python",
   "name": "python3"
  },
  "language_info": {
   "codemirror_mode": {
    "name": "ipython",
    "version": 3
   },
   "file_extension": ".py",
   "mimetype": "text/x-python",
   "name": "python",
   "nbconvert_exporter": "python",
   "pygments_lexer": "ipython3",
   "version": "3.9.12"
  }
 },
 "nbformat": 4,
 "nbformat_minor": 5
}
